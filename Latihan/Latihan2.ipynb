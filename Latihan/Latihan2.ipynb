{
 "cells": [
  {
   "cell_type": "code",
   "execution_count": 1,
   "id": "7b71a509",
   "metadata": {},
   "outputs": [],
   "source": [
    "import numpy as np\n",
    "import cv2 as cv"
   ]
  },
  {
   "cell_type": "code",
   "execution_count": 2,
   "id": "7188a69c",
   "metadata": {},
   "outputs": [],
   "source": [
    "#membaca citra RGB\n",
    "rgb = cv.imread('red_apple.jpg')\n",
    "ycrcb = cv.cvtColor(rgb, cv.COLOR_BGR2YCrCb)"
   ]
  },
  {
   "cell_type": "code",
   "execution_count": 3,
   "id": "b8182fa5",
   "metadata": {},
   "outputs": [],
   "source": [
    "lower_blue = np.array([40,150,50])\n",
    "upper_blue = np.array([200,255,150])\n",
    "# Threshold the HSV image to get only blue colors\n",
    "img_biner = cv.inRange(ycrcb, lower_blue, upper_blue)"
   ]
  },
  {
   "cell_type": "code",
   "execution_count": 4,
   "id": "9c984d87",
   "metadata": {},
   "outputs": [],
   "source": [
    "#mendefinisikan structuring element 3x3 dan 5x5\n",
    "se_3 = cv.getStructuringElement(cv.MORPH_RECT,(3,3))\n",
    "se_5 = cv.getStructuringElement(cv.MORPH_RECT,(5,5))"
   ]
  },
  {
   "cell_type": "code",
   "execution_count": 5,
   "id": "2829e331",
   "metadata": {},
   "outputs": [],
   "source": [
    "#opearsi morfologi\n",
    "dst_dilate = cv.dilate(img_biner, se_3, iterations = 1)\n",
    "dst_erosi = cv.erode(dst_dilate, se_3, iterations = 2)\n",
    "dst_dilate2 = cv.dilate(dst_erosi, se_5, iterations = 2)\n",
    "dst_erosi2 = cv.erode(dst_dilate2, se_5, iterations = 3)\n",
    "dst_dilate3 = cv.dilate(dst_erosi2, se_3, iterations = 1)"
   ]
  },
  {
   "cell_type": "code",
   "execution_count": 6,
   "id": "328b9f55",
   "metadata": {},
   "outputs": [],
   "source": [
    "res = cv.bitwise_and(rgb,rgb, mask= dst_dilate3)"
   ]
  },
  {
   "cell_type": "code",
   "execution_count": 8,
   "id": "86728add",
   "metadata": {},
   "outputs": [],
   "source": [
    "cv.imshow('Citra awal', rgb)\n",
    "cv.imshow('Hasil Dilasi dengan SE 3x3 satu kali iterasi', dst_dilate)\n",
    "cv.imshow('Hasil Erosi dengan SE 3x3 dua kali iterasi ', dst_erosi)\n",
    "cv.imshow('Hasil Dilasi dengan SE 5x5 dua kali iterasi', dst_dilate2)\n",
    "cv.imshow('Hasil Erosi dengan SE 5x5 tiga kali iterasi', dst_erosi2)\n",
    "cv.imshow('Hasil dilasi dengan SE 5x5 satukali iterasi', dst_dilate3)\n",
    "cv.imshow('Citra Hasil', res)\n",
    "cv.waitKey(0)\n",
    "cv.destroyAllWindows()"
   ]
  },
  {
   "cell_type": "code",
   "execution_count": null,
   "id": "4080b69c",
   "metadata": {},
   "outputs": [],
   "source": []
  }
 ],
 "metadata": {
  "kernelspec": {
   "display_name": "imageprocessing",
   "language": "python",
   "name": "imageprocessing"
  },
  "language_info": {
   "codemirror_mode": {
    "name": "ipython",
    "version": 3
   },
   "file_extension": ".py",
   "mimetype": "text/x-python",
   "name": "python",
   "nbconvert_exporter": "python",
   "pygments_lexer": "ipython3",
   "version": "3.7.5"
  }
 },
 "nbformat": 4,
 "nbformat_minor": 5
}
