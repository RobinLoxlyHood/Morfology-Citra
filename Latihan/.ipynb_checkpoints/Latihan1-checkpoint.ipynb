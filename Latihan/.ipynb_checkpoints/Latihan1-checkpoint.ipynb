{
 "cells": [
  {
   "cell_type": "code",
   "execution_count": 8,
   "id": "a2187b6f",
   "metadata": {},
   "outputs": [],
   "source": [
    "import numpy as np\n",
    "import cv2 as cv"
   ]
  },
  {
   "cell_type": "code",
   "execution_count": 9,
   "id": "07f800fd",
   "metadata": {},
   "outputs": [],
   "source": [
    "def morfologi(img, se):\n",
    "    dst_erosi = cv.erode(img, se, iterations = 1)\n",
    "    dst_dilate = cv.dilate(img, se, iterations = 1)\n",
    "    dst_opening = cv.morphologyEx(img, cv.MORPH_OPEN, se, iterations = 1)\n",
    "    dst_closing = cv.morphologyEx(img, cv.MORPH_CLOSE, se, iterations = 1)\n",
    "    return dst_erosi, dst_dilate, dst_opening, dst_closing"
   ]
  },
  {
   "cell_type": "code",
   "execution_count": 10,
   "id": "de0a73b9",
   "metadata": {},
   "outputs": [],
   "source": [
    "def main():\n",
    "    img1 = cv.imread('circbw.tif',0)\n",
    "    s_element = cv.getStructuringElement(cv.MORPH_RECT,(3,3))\n",
    "    dst_erosi, dst_dilate, dst_opening, dst_closing = morfologi(img1, s_element)\n",
    "        \n",
    "    cv.imshow('dst_erosi',dst_erosi)\n",
    "    cv.imshow('dst_dilate',dst_dilate)\n",
    "    cv.imshow('dst_opening',dst_opening)\n",
    "    cv.imshow('dst_closing',dst_closing)\n",
    "    cv.waitKey(0)\n",
    "    cv.destroyAllWindows()"
   ]
  },
  {
   "cell_type": "code",
   "execution_count": 11,
   "id": "8a791c34",
   "metadata": {},
   "outputs": [],
   "source": [
    "main()"
   ]
  }
 ],
 "metadata": {
  "kernelspec": {
   "display_name": "imageprocessing",
   "language": "python",
   "name": "imageprocessing"
  },
  "language_info": {
   "codemirror_mode": {
    "name": "ipython",
    "version": 3
   },
   "file_extension": ".py",
   "mimetype": "text/x-python",
   "name": "python",
   "nbconvert_exporter": "python",
   "pygments_lexer": "ipython3",
   "version": "3.7.5"
  }
 },
 "nbformat": 4,
 "nbformat_minor": 5
}
