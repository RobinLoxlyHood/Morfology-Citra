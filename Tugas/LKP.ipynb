{
 "cells": [
  {
   "cell_type": "markdown",
   "id": "bc159055",
   "metadata": {},
   "source": [
    "# Segmentasi Citra"
   ]
  },
  {
   "cell_type": "code",
   "execution_count": 2,
   "id": "3db25b71",
   "metadata": {},
   "outputs": [],
   "source": [
    "import numpy as np\n",
    "import cv2 as cv"
   ]
  },
  {
   "cell_type": "code",
   "execution_count": 3,
   "id": "678db983",
   "metadata": {},
   "outputs": [],
   "source": [
    "#membaca citra RGB\n",
    "rgb = cv.imread('data/burungjalak.jpg')\n",
    "ycrcb = cv.cvtColor(rgb, cv.COLOR_BGR2YCrCb)"
   ]
  },
  {
   "cell_type": "code",
   "execution_count": 4,
   "id": "79ed9e50",
   "metadata": {},
   "outputs": [],
   "source": [
    "#cek hasil input gambar\n",
    "cv.imshow('Citra awal', ycrcb)\n",
    "cv.waitKey(0)\n",
    "cv.destroyAllWindows()"
   ]
  },
  {
   "cell_type": "code",
   "execution_count": 5,
   "id": "4d401870",
   "metadata": {},
   "outputs": [],
   "source": [
    "lower_blue = np.array([150,120,10])\n",
    "upper_blue = np.array([255,255,200])\n",
    "# Threshold the HSV image to get only blue colors\n",
    "mask = cv.inRange(ycrcb, lower_blue, upper_blue)"
   ]
  },
  {
   "cell_type": "code",
   "execution_count": 7,
   "id": "f117914d",
   "metadata": {},
   "outputs": [],
   "source": [
    "#cek hasil masking\n",
    "cv.imshow('mask', mask)\n",
    "cv.waitKey(0)\n",
    "cv.destroyAllWindows()"
   ]
  },
  {
   "cell_type": "code",
   "execution_count": 8,
   "id": "93387a7d",
   "metadata": {},
   "outputs": [],
   "source": [
    "res = cv.bitwise_and(rgb,rgb, mask= mask)"
   ]
  },
  {
   "cell_type": "code",
   "execution_count": 9,
   "id": "842f82b2",
   "metadata": {},
   "outputs": [],
   "source": [
    "cv.imshow('objek', res)\n",
    "cv.waitKey(0)\n",
    "cv.destroyAllWindows()"
   ]
  },
  {
   "cell_type": "markdown",
   "id": "584d918b",
   "metadata": {},
   "source": [
    "# Noise filtering"
   ]
  },
  {
   "cell_type": "code",
   "execution_count": 333,
   "id": "33583056",
   "metadata": {},
   "outputs": [],
   "source": [
    "blur_average = cv.blur(mask,(3,3)) #Melakukan noise removal dengan average kernel 3x3\n",
    "blur_gaussian = cv.GaussianBlur(mask,(3,3),0) #Melakukan noise removal dengan GaussianBlur kernel 3x3\n",
    "blur_median = cv.medianBlur(mask,3) #Melakukan noise removal dengan medianBlur kernel 3x3"
   ]
  },
  {
   "cell_type": "code",
   "execution_count": 334,
   "id": "c6b3716b",
   "metadata": {},
   "outputs": [],
   "source": [
    "cv.imshow('Smoothing Average Filter', blur_average) #menampilkan Hasil noise removal dengan average\n",
    "cv.imshow('Smoothing Gaussian', blur_gaussian) #menampilkan Hasil noise removal dengan GaussianBlur\n",
    "cv.imshow('Smoothing Median Filter', blur_median) #menampilkan Hasil noise removal dengan medianBlur\n",
    "cv.waitKey(0)\n",
    "cv.destroyAllWindows()"
   ]
  },
  {
   "cell_type": "markdown",
   "id": "01de75ac",
   "metadata": {},
   "source": [
    "# Morfologi"
   ]
  },
  {
   "cell_type": "code",
   "execution_count": 335,
   "id": "4130ff59",
   "metadata": {},
   "outputs": [],
   "source": [
    "#mendefinisikan structuring element 3x3 dan 5x5\n",
    "se_3 = cv.getStructuringElement(cv.MORPH_RECT,(3,3))\n",
    "se_5 = cv.getStructuringElement(cv.MORPH_RECT,(5,5))"
   ]
  },
  {
   "cell_type": "code",
   "execution_count": 336,
   "id": "7b3a0cde",
   "metadata": {},
   "outputs": [],
   "source": [
    "#opearsi morfologi\n",
    "dst_dilate = cv.dilate(blur_median, se_3, iterations = 1)\n",
    "dst_erosi = cv.erode(dst_dilate, se_3, iterations = 2)\n",
    "dst_dilate2 = cv.dilate(dst_erosi, se_5, iterations = 2)\n",
    "dst_erosi2 = cv.erode(dst_dilate2, se_5, iterations = 3)\n",
    "dst_dilate3 = cv.dilate(dst_erosi2, se_3, iterations = 1)"
   ]
  },
  {
   "cell_type": "code",
   "execution_count": 341,
   "id": "a8988d73",
   "metadata": {},
   "outputs": [],
   "source": [
    "res = cv.bitwise_and(rgb,rgb, mask= dst_erosi2)"
   ]
  },
  {
   "cell_type": "code",
   "execution_count": 342,
   "id": "b1161e40",
   "metadata": {},
   "outputs": [],
   "source": [
    "cv.imshow('Citra awal', rgb)\n",
    "cv.imshow('Hasil Dilasi dengan SE 3x3 satu kali iterasi', dst_dilate)\n",
    "cv.imshow('Hasil Erosi dengan SE 3x3 dua kali iterasi ', dst_erosi)\n",
    "cv.imshow('Hasil Dilasi dengan SE 5x5 dua kali iterasi', dst_dilate2)\n",
    "cv.imshow('Hasil Erosi dengan SE 5x5 tiga kali iterasi', dst_erosi2)\n",
    "cv.imshow('Hasil dilasi dengan SE 5x5 satukali iterasi', dst_dilate3)\n",
    "cv.imshow('Citra Hasil', res)\n",
    "cv.waitKey(0)\n",
    "cv.destroyAllWindows()"
   ]
  }
 ],
 "metadata": {
  "kernelspec": {
   "display_name": "imageprocessing",
   "language": "python",
   "name": "imageprocessing"
  },
  "language_info": {
   "codemirror_mode": {
    "name": "ipython",
    "version": 3
   },
   "file_extension": ".py",
   "mimetype": "text/x-python",
   "name": "python",
   "nbconvert_exporter": "python",
   "pygments_lexer": "ipython3",
   "version": "3.7.5"
  }
 },
 "nbformat": 4,
 "nbformat_minor": 5
}
